{
 "cells": [
  {
   "cell_type": "code",
   "execution_count": 10,
   "metadata": {},
   "outputs": [
    {
     "ename": "ModuleNotFoundError",
     "evalue": "No module named 'dotenv'",
     "output_type": "error",
     "traceback": [
      "\u001b[0;31m---------------------------------------------------------------------------\u001b[0m",
      "\u001b[0;31mModuleNotFoundError\u001b[0m                       Traceback (most recent call last)",
      "Cell \u001b[0;32mIn[10], line 11\u001b[0m\n\u001b[1;32m      9\u001b[0m \u001b[39mimport\u001b[39;00m \u001b[39mpyspark\u001b[39;00m\u001b[39m.\u001b[39;00m\u001b[39msql\u001b[39;00m\u001b[39m.\u001b[39;00m\u001b[39mfunctions\u001b[39;00m \u001b[39mas\u001b[39;00m \u001b[39mF\u001b[39;00m\n\u001b[1;32m     10\u001b[0m \u001b[39mfrom\u001b[39;00m \u001b[39mpyspark\u001b[39;00m\u001b[39m.\u001b[39;00m\u001b[39msql\u001b[39;00m \u001b[39mimport\u001b[39;00m types\n\u001b[0;32m---> 11\u001b[0m \u001b[39mfrom\u001b[39;00m \u001b[39mdotenv\u001b[39;00m \u001b[39mimport\u001b[39;00m load_dotenv\n",
      "\u001b[0;31mModuleNotFoundError\u001b[0m: No module named 'dotenv'"
     ]
    }
   ],
   "source": [
    "import click\n",
    "import pandas as pd\n",
    "from time import time\n",
    "import os\n",
    "from google.cloud import storage\n",
    "import pyspark\n",
    "from pyspark.sql import SparkSession\n",
    "from io import BytesIO\n",
    "import pyspark.sql.functions as F\n",
    "from pyspark.sql import types\n",
    "from dotenv import load_dotenv"
   ]
  },
  {
   "cell_type": "code",
   "execution_count": 2,
   "metadata": {},
   "outputs": [],
   "source": [
    "#@click.command() # click commands instead of argparse.ArgumentParser()... or sys.argv[n]\n",
    "#@click.option('--sa_path', help='Path to the service account json file')\n",
    "#@click.option('--project_id', help='Project ID of you GCP project')\n",
    "#@click.option('--year', default=2021, help='Year to download')\n",
    "#@click.option('--bucket', help='Name of the bucket to upload the data')\n",
    "#@click.option('--color', help='Str of the taxi-color for which data should be extracted')\n",
    "#@click.option('--month', help='Int of the month to summarize the data for')\n",
    "\n",
    "sa_path = '../mle-neue-fische-gunnaroeh-0fc41b31bc57.json'\n",
    "project_id = 'mle-neue-fische-gunnaroeh'\n",
    "bucket = \"01_data_pipeline_project\" \n",
    "project_id = \"mle-neue-fische-gunnaroeh\" \n",
    "color = \"green\"\n",
    "year = 2021\n",
    "month = 1"
   ]
  },
  {
   "cell_type": "code",
   "execution_count": 3,
   "metadata": {},
   "outputs": [],
   "source": [
    "### 3. E: Extract the data as a function\n",
    "def extract_data(sa_path, bucket, color, year, month):\n",
    "    # Spark Session\n",
    "    spark = SparkSession.builder \\\n",
    "    .master(\"local\") \\\n",
    "    .appName(f\"Pipe-{color}_taxi_{year}-{month:02d}\") \\\n",
    "    .getOrCreate()\n",
    "\n",
    "    # string of the file to be loaded\n",
    "    file_name = f\"ny_taxi/{color}_tripdata_{year}-{month:02d}.parquet\"\n",
    "    \n",
    "    # Establish connection to GCS-Bucket\n",
    "    os.environ[\"GOOGLE_APPLICATION_CREDENTIALS\"] = sa_path\n",
    "    # Create an instance of the GCS client to communicate with the Cloud\n",
    "    client = storage.Client()\n",
    "    \n",
    "    # Retrieve address/path to the specified bucket and a blob representing the table\n",
    "    bucket = client.get_bucket(bucket)\n",
    "    blob = bucket.get_blob(file_name)\n",
    "\n",
    "    # Download parquet and write it to memory as binary to be accessible\n",
    "    pq_taxi = blob.download_as_bytes()    \n",
    "    pq_taxi = BytesIO(pq_taxi)\n",
    "    \n",
    "    # read the object in memory as df -> spark-df\n",
    "    df_taxi = pd.read_parquet(pq_taxi)\n",
    "    df_taxi.drop(\"ehail_fee\", inplace=True, axis=1)\n",
    "    df_taxi = spark.createDataFrame(df_taxi)\n",
    "\n",
    "    # convert the double to float\n",
    "    for col in df_taxi.columns:\n",
    "        if df_taxi.schema[col].dataType == types.DoubleType():\n",
    "            df_taxi = df_taxi.withColumn(col, F.col(col).cast('float'))\n",
    "    \n",
    "    return df_taxi, spark"
   ]
  },
  {
   "cell_type": "code",
   "execution_count": 4,
   "metadata": {},
   "outputs": [
    {
     "name": "stderr",
     "output_type": "stream",
     "text": [
      "Setting default log level to \"WARN\".\n",
      "To adjust logging level use sc.setLogLevel(newLevel). For SparkR, use setLogLevel(newLevel).\n",
      "23/07/09 16:27:35 WARN NativeCodeLoader: Unable to load native-hadoop library for your platform... using builtin-java classes where applicable\n"
     ]
    }
   ],
   "source": [
    "df_taxi,spark = extract_data(sa_path, bucket, color, year, month)"
   ]
  },
  {
   "cell_type": "code",
   "execution_count": 5,
   "metadata": {},
   "outputs": [
    {
     "name": "stdout",
     "output_type": "stream",
     "text": [
      "root\n",
      " |-- VendorID: long (nullable = true)\n",
      " |-- lpep_pickup_datetime: timestamp (nullable = true)\n",
      " |-- lpep_dropoff_datetime: timestamp (nullable = true)\n",
      " |-- store_and_fwd_flag: string (nullable = true)\n",
      " |-- RatecodeID: float (nullable = true)\n",
      " |-- PULocationID: long (nullable = true)\n",
      " |-- DOLocationID: long (nullable = true)\n",
      " |-- passenger_count: float (nullable = true)\n",
      " |-- trip_distance: float (nullable = true)\n",
      " |-- fare_amount: float (nullable = true)\n",
      " |-- extra: float (nullable = true)\n",
      " |-- mta_tax: float (nullable = true)\n",
      " |-- tip_amount: float (nullable = true)\n",
      " |-- tolls_amount: float (nullable = true)\n",
      " |-- improvement_surcharge: float (nullable = true)\n",
      " |-- total_amount: float (nullable = true)\n",
      " |-- payment_type: float (nullable = true)\n",
      " |-- trip_type: float (nullable = true)\n",
      " |-- congestion_surcharge: float (nullable = true)\n",
      "\n"
     ]
    }
   ],
   "source": [
    "df_taxi.printSchema()"
   ]
  },
  {
   "cell_type": "code",
   "execution_count": 6,
   "metadata": {},
   "outputs": [],
   "source": [
    "def transform_data(df_taxi, spark):\n",
    "    # some sql commands\n",
    "    df_taxi = df_taxi \\\n",
    "        .withColumnRenamed('lpep_pickup_datetime', 'pickup_datetime') \\\n",
    "        .withColumnRenamed('lpep_dropoff_datetime', 'dropoff_datetime')\\\n",
    "        .withColumnRenamed('PULocationID', 'pickup_location_id')\\\n",
    "        .withColumnRenamed('DOLocationID', 'dropoff_location_id')\n",
    "    # Temporary SQL Table to be queried\n",
    "    df_taxi.registerTempTable('df_taxi_temp')\n",
    "    # Query the revenue\n",
    "    df_result = spark.sql(\"\"\"\n",
    "                    SELECT pickup_location_id AS revenue_zone,\n",
    "                    date_trunc('day', pickup_datetime) AS revenue_day,\n",
    "                    date_trunc('month', pickup_datetime) AS month,  \n",
    "                    SUM(fare_amount) AS revenue_daily_fare,\n",
    "                    SUM(extra) AS revenue_daily_extra,\n",
    "                    SUM(mta_tax) AS revenue_daily_mta_tax,\n",
    "                    SUM(tip_amount) AS revenue_daily_tip_amount,\n",
    "                    SUM(tolls_amount) AS revenue_daily_tolls_amount,\n",
    "                    SUM(improvement_surcharge) AS revenue_daily_improvement_surcharge,\n",
    "                    SUM(total_amount) AS revenue_daily_total_amount,\n",
    "                    SUM(congestion_surcharge) AS revenue_daily_congestion_surcharge,\n",
    "                    AVG(passenger_count) AS avg_daily_passenger_count,\n",
    "                    AVG(trip_distance) AS avg_daily_trip_distance\n",
    "                    FROM df_taxi_temp\n",
    "                    GROUP BY revenue_zone, revenue_day, month;\n",
    "                      \"\"\")\n",
    "    return df_result\n",
    "        "
   ]
  },
  {
   "cell_type": "code",
   "execution_count": 7,
   "metadata": {},
   "outputs": [
    {
     "name": "stderr",
     "output_type": "stream",
     "text": [
      "/Users/gunnaroeh/neuefische/mle-data-pipeline-project/.venv/lib/python3.11/site-packages/pyspark/sql/dataframe.py:330: FutureWarning: Deprecated in 2.0, use createOrReplaceTempView instead.\n",
      "  warnings.warn(\"Deprecated in 2.0, use createOrReplaceTempView instead.\", FutureWarning)\n",
      "23/07/09 16:27:50 WARN TaskSetManager: Stage 0 contains a task of very large size (10889 KiB). The maximum recommended task size is 1000 KiB.\n",
      "[Stage 0:>                                                          (0 + 1) / 1]\r"
     ]
    },
    {
     "name": "stdout",
     "output_type": "stream",
     "text": [
      "+------------+-------------------+-------------------+------------------+-------------------+---------------------+------------------------+--------------------------+-----------------------------------+--------------------------+----------------------------------+-------------------------+-----------------------+\n",
      "|revenue_zone|        revenue_day|              month|revenue_daily_fare|revenue_daily_extra|revenue_daily_mta_tax|revenue_daily_tip_amount|revenue_daily_tolls_amount|revenue_daily_improvement_surcharge|revenue_daily_total_amount|revenue_daily_congestion_surcharge|avg_daily_passenger_count|avg_daily_trip_distance|\n",
      "+------------+-------------------+-------------------+------------------+-------------------+---------------------+------------------------+--------------------------+-----------------------------------+--------------------------+----------------------------------+-------------------------+-----------------------+\n",
      "|          68|2021-01-09 00:00:00|2021-01-01 00:00:00|24.200000762939453|                0.0|                  0.5|                     0.0|                       0.0|                0.30000001192092896|                      25.0|                               0.0|                      1.0|                    0.0|\n",
      "|         130|2021-01-13 00:00:00|2021-01-01 00:00:00| 741.9799995422363|               10.5|                 12.5|       87.30999970436096|        12.239999771118164|                 12.300000488758087|         876.8300092220306|                               NaN|                      NaN|     3.8907317378353783|\n",
      "|          49|2021-01-13 00:00:00|2021-01-01 00:00:00| 408.1200008392334|                1.0|                  2.5|                   46.75|                       0.0|                  5.400000214576721|         463.7700004577637|                               NaN|                      NaN|      4.360500042140484|\n",
      "|          37|2021-01-13 00:00:00|2021-01-01 00:00:00| 484.5999994277954|                1.0|                  0.5|                   46.75|        12.239999771118164|                  5.400000214576721|         550.4900064468384|                               NaN|                      NaN|        5.1838887863689|\n",
      "|          33|2021-01-14 00:00:00|2021-01-01 00:00:00| 767.5699996948242|                6.5|                 12.0|       83.75999987125397|                       0.0|                   11.4000004529953|         908.7299938201904|                               NaN|                      NaN|      4.300263180152366|\n",
      "|          98|2021-01-15 00:00:00|2021-01-01 00:00:00|              52.5|                1.0|                  0.5|                    2.75|                       0.0|                0.30000001192092896|         57.04999923706055|                               0.0|                      1.0|     17.989999771118164|\n",
      "|         145|2021-01-17 00:00:00|2021-01-01 00:00:00|              59.0|                0.0|                  0.5|                    2.75|         6.119999885559082|                0.30000001192092896|         68.66999816894531|                               0.0|                      1.0|     15.649999618530273|\n",
      "|          67|2021-01-18 00:00:00|2021-01-01 00:00:00| 173.0600004196167|                0.0|                  1.0|                   19.25|                       0.0|                 2.4000000953674316|        195.70999717712402|                               NaN|                      NaN|      3.446250006556511|\n",
      "|          19|2021-01-21 00:00:00|2021-01-01 00:00:00|154.54000091552734|               2.75|                  0.5|      5.5299999713897705|                       0.0|                 1.2000000476837158|        164.51999855041504|                               NaN|                      NaN|      9.762500047683716|\n",
      "|         228|2021-01-22 00:00:00|2021-01-01 00:00:00| 236.7800006866455|               11.0|                  1.0|        8.59000015258789|        12.239999771118164|                 2.4000000953674316|         274.7599983215332|                               NaN|                      NaN|      6.868749871850014|\n",
      "|         196|2021-01-24 00:00:00|2021-01-01 00:00:00|271.63000202178955|               16.5|                  3.0|      10.039999961853027|                       0.0|                 3.3000001311302185|         307.2200002670288|                               NaN|                      NaN|      6.338181793689728|\n",
      "|          74|2021-01-27 00:00:00|2021-01-01 00:00:00| 3150.610001564026|              153.0|                119.5|       302.0299998167902|         30.59999942779541|                  78.90000313520432|        3950.1399903297424|                               NaN|                      NaN|     2.3132319234084946|\n",
      "|          39|2021-01-27 00:00:00|2021-01-01 00:00:00|477.69000816345215|  48.10000002384186|                  0.5|                     0.0|        30.109999656677246|                  5.400000214576721|         561.8000037670135|                               NaN|                      NaN|      7.469999972316954|\n",
      "|          74|2021-01-28 00:00:00|2021-01-01 00:00:00|3203.7000007629395|             155.25|                119.5|      319.93999978899956|        48.959999084472656|                   79.8000031709671|        4052.8999853134155|                               NaN|                      NaN|      2.400000000157875|\n",
      "|          87|2021-01-11 00:00:00|2021-01-01 00:00:00| 53.70000076293945|                0.0|                  0.0|                    2.75|         6.119999885559082|                0.30000001192092896|        62.869998931884766|                               NaN|                      NaN|     19.059999465942383|\n",
      "|          51|2021-01-13 00:00:00|2021-01-01 00:00:00| 597.3199977874756|                0.0|                  0.0|                    66.0|          67.3199987411499|                  7.200000286102295|         737.8400020599365|                               NaN|                      NaN|      6.617916653553645|\n",
      "|         155|2021-01-14 00:00:00|2021-01-01 00:00:00|382.44000816345215|                0.0|                  0.0|                   41.25|        12.239999771118164|                  4.500000178813934|         440.4300003051758|                               NaN|                      NaN|       6.27933330933253|\n",
      "|         170|2021-01-14 00:00:00|2021-01-01 00:00:00|58.880001068115234|                0.0|                  0.0|                     5.5|        12.239999771118164|                 0.6000000238418579|         77.22000122070312|                               NaN|                      NaN|     11.434999942779541|\n",
      "|          35|2021-01-20 00:00:00|2021-01-01 00:00:00|  547.829999923706|  56.35000002384186|                  0.0|                     0.0|        12.239999771118164|                  6.000000238418579|         622.4200038909912|                               NaN|                      NaN|      4.906999936699867|\n",
      "|         102|2021-01-27 00:00:00|2021-01-01 00:00:00|113.10000228881836|               11.0|                  0.0|                     0.0|        12.239999771118164|                 1.2000000476837158|        137.53999710083008|                               NaN|                      NaN|      7.862500071525574|\n",
      "|          20|2021-01-30 00:00:00|2021-01-01 00:00:00|106.32999801635742|                5.5|                  0.0|       7.289999961853027|         6.119999885559082|                 0.9000000357627869|        128.88999938964844|                               NaN|                      NaN|     12.086666345596313|\n",
      "|         174|2021-01-02 00:00:00|2021-01-01 00:00:00|209.79000091552734|                0.5|                  1.0|                    16.5|        12.239999771118164|                 1.8000000715255737|        241.82999992370605|                               NaN|                      NaN|     10.291666587193808|\n",
      "|         197|2021-01-02 00:00:00|2021-01-01 00:00:00| 276.6700019836426|                0.0|                  2.0|      21.710000038146973|        14.529999732971191|                 2.4000000953674316|        317.30999660491943|                               NaN|                      NaN|     12.977500192821026|\n",
      "|         159|2021-01-05 00:00:00|2021-01-01 00:00:00| 440.1599998474121|                2.0|                  1.5|                   47.75|         6.119999885559082|                  6.000000238418579|         503.5299997329712|                               NaN|                      NaN|      5.091999983787536|\n",
      "|          18|2021-01-06 00:00:00|2021-01-01 00:00:00| 200.2099952697754|                0.0|                  0.5|                    22.0|        12.239999771118164|                 2.7000001072883606|        237.65000438690186|                               NaN|                      NaN|        5.3100000222524|\n",
      "|         136|2021-01-09 00:00:00|2021-01-01 00:00:00| 254.4700002670288|                1.0|                  2.0|                    18.5|        18.359999656677246|                 2.1000000834465027|        296.42999935150146|                               NaN|                      NaN|      9.867142983845302|\n",
      "|         134|2021-01-11 00:00:00|2021-01-01 00:00:00| 220.7400016784668|                4.0|                  3.0|      22.789999842643738|                       0.0|                 3.3000001311302185|        253.82999801635742|                               NaN|                      NaN|      5.113636276938698|\n",
      "|          85|2021-01-13 00:00:00|2021-01-01 00:00:00|302.32999897003174|                0.0|                  1.5|                   30.25|         6.119999885559082|                 3.9000001549720764|         344.0999946594238|                               NaN|                      NaN|      4.721538447416746|\n",
      "|          56|2021-01-14 00:00:00|2021-01-01 00:00:00|179.10000228881836|                2.0|                  1.5|      18.670000076293945|                       0.0|                 2.7000001072883606|        203.97000217437744|                               NaN|                      NaN|     3.0111111601193747|\n",
      "|         209|2021-01-15 00:00:00|2021-01-01 00:00:00|30.200000762939453|                0.0|                  0.5|                     0.0|                       0.0|                0.30000001192092896|                      31.0|                               0.0|                      1.0|                    0.0|\n",
      "+------------+-------------------+-------------------+------------------+-------------------+---------------------+------------------------+--------------------------+-----------------------------------+--------------------------+----------------------------------+-------------------------+-----------------------+\n",
      "only showing top 30 rows\n",
      "\n"
     ]
    },
    {
     "name": "stderr",
     "output_type": "stream",
     "text": [
      "                                                                                \r"
     ]
    }
   ],
   "source": [
    "df_transformed = transform_data(df_taxi, spark)\n",
    "df_transformed.show(30)"
   ]
  },
  {
   "cell_type": "code",
   "execution_count": 9,
   "metadata": {},
   "outputs": [],
   "source": [
    "### 5. L: Load Data onto local Machine PostgreSQL\n",
    "def load_data(df_transformed, year, month, color):\n",
    "    load_dotenv()\n",
    "    # get the Database Credentials\n",
    "    user = os.getenv('USER')\n",
    "    pw = os.getenv('PASSWORD')\n",
    "    host = os.getenv('HOST')\n",
    "    port = os.getenv('PORT')\n",
    "    db = os.getenv('DB')\n",
    "    schema = os.getenv('SCHEMA')\n",
    "    # some commands to write it into storage in the db\n",
    "    table_name = f\"{color}_revenue_{year}_{month}\"\n",
    "    # Write DataFrame to PostgreSQL\n",
    "    df_transformed.write.format(\"jdbc\") \\\n",
    "        .option(\"url\", f\"jdbc:postgresql://{host}:{port}/{db}\") \\\n",
    "        .option(\"schema\", schema) \\\n",
    "        .option(\"dbtable\", table_name) \\\n",
    "        .option(\"user\", user) \\\n",
    "        .option(\"password\", pw) \\\n",
    "        .mode(\"overwrite\") \\\n",
    "        .save()"
   ]
  },
  {
   "cell_type": "code",
   "execution_count": null,
   "metadata": {},
   "outputs": [],
   "source": [
    "load_data(df_transformed, )"
   ]
  }
 ],
 "metadata": {
  "kernelspec": {
   "display_name": ".venv",
   "language": "python",
   "name": "python3"
  },
  "language_info": {
   "codemirror_mode": {
    "name": "ipython",
    "version": 3
   },
   "file_extension": ".py",
   "mimetype": "text/x-python",
   "name": "python",
   "nbconvert_exporter": "python",
   "pygments_lexer": "ipython3",
   "version": "3.11.3"
  },
  "orig_nbformat": 4
 },
 "nbformat": 4,
 "nbformat_minor": 2
}
